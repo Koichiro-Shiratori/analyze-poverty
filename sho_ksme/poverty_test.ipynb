# my first attempt of ipynb in github
print "Hello world!"
